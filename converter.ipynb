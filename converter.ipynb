{
  "cells": [
    {
      "cell_type": "code",
      "execution_count": 67,
      "metadata": {},
      "outputs": [],
      "source": [
        "import os\n",
        "main_path = \"/Users/rinat/develop/datasets/cvat\"\n",
        "result_dir = \"/Users/rinat/develop/datasets/coco_pole_ligth\""
      ]
    },
    {
      "cell_type": "code",
      "execution_count": 68,
      "metadata": {
        "colab": {
          "base_uri": "https://localhost:8080/"
        },
        "id": "wbvMlHd_QwMG",
        "outputId": "96335d4c-20a9-4864-f7a4-bb2eb0077a9d"
      },
      "outputs": [],
      "source": [
        "# находим zip файлы в cvat (экспорт без изображений только yolo формат) и распаковываем их\n",
        "import zipfile\n",
        "zips = [zip_ for zip_ in os.listdir(main_path) if zip_.find(\".zip\") > 0]\n",
        "for zip_ in zips:\n",
        "    zip_path = os.path.join(main_path, zip_)\n",
        "    dirname = zip_.replace(\".zip\", \"\")\n",
        "    with zipfile.ZipFile(zip_path,\"r\") as zip_ref:\n",
        "        zip_ref.extractall(os.path.join(main_path,dirname))"
      ]
    },
    {
      "cell_type": "code",
      "execution_count": 69,
      "metadata": {},
      "outputs": [],
      "source": [
        "import cv2\n",
        "\n",
        "def save_all_frames(video_path, dir_path, basename, ext='jpg'):\n",
        "    cap = cv2.VideoCapture(video_path,)\n",
        "    if not cap.isOpened():\n",
        "        return\n",
        "    os.makedirs(dir_path, exist_ok=True)\n",
        "    base_path = os.path.join(dir_path, basename)\n",
        "    n = 0\n",
        "    while True:\n",
        "        ret, frame = cap.read()\n",
        "        if ret:\n",
        "            imname = '{}_{}.{}'.format(base_path, f\"{n:06d}\", ext)\n",
        "            #print(imname)\n",
        "            cv2.imwrite(imname, frame)\n",
        "            n += 1\n",
        "        else:\n",
        "            print(video_path)\n",
        "            return"
      ]
    },
    {
      "cell_type": "code",
      "execution_count": 70,
      "metadata": {},
      "outputs": [
        {
          "name": "stdout",
          "output_type": "stream",
          "text": [
            "/Users/rinat/develop/datasets/cvat/ge4.740.007.left.avi\n"
          ]
        }
      ],
      "source": [
        "# находим zip файлы и формируем директории с картинками в каждой ранее созданной папке\n",
        "\n",
        "zips = [zip_ for zip_ in os.listdir(main_path) if zip_.find(\".zip\") > 0]\n",
        "for zip_ in zips:\n",
        "    dirname = zip_.replace(\".zip\", \"\")\n",
        "    full_dirname = os.path.join(main_path, f\"{dirname}/images/\")\n",
        "    video_path = os.path.join(main_path, f\"{dirname}.left.avi\") \n",
        "    save_all_frames(video_path, full_dirname, \"frame\", ext='jpg')"
      ]
    },
    {
      "cell_type": "code",
      "execution_count": 72,
      "metadata": {},
      "outputs": [
        {
          "name": "stdout",
          "output_type": "stream",
          "text": [
            "/Users/rinat/develop/datasets/cvat/ge4.740.007/images/frame_000100.jpg\n",
            "/Users/rinat/develop/datasets/cvat/ge4.740.007/images/frame_000098.jpg\n",
            "/Users/rinat/develop/datasets/cvat/ge4.740.007/images/frame_000099.jpg\n",
            "/Users/rinat/develop/datasets/cvat/ge4.740.007/images/frame_000094.jpg\n",
            "/Users/rinat/develop/datasets/cvat/ge4.740.007/images/frame_000095.jpg\n",
            "/Users/rinat/develop/datasets/cvat/ge4.740.007/images/frame_000097.jpg\n",
            "/Users/rinat/develop/datasets/cvat/ge4.740.007/images/frame_000096.jpg\n"
          ]
        }
      ],
      "source": [
        "# список всех не нулевых файлов внутри каждой директории\n",
        "all_txt_files = list()\n",
        "for dir_ in os.listdir(main_path):\n",
        "    if os.path.isdir(os.path.join(main_path, dir_)) is True:\n",
        "        obj_train_data = os.path.join(os.path.join(main_path, dir_), \"obj_train_data\")\n",
        "        files = [(os.path.join(obj_train_data, txt_file), txt_file) for txt_file in os.listdir(obj_train_data) if os.path.getsize(os.path.join(obj_train_data, txt_file))>0]\n",
        "        all_txt_files += files\n",
        "\n",
        "# находим все наше добро и переносим на уровень выше\n",
        "# получаем вложенность\n",
        "# coco_pole_ligth/images/train\n",
        "# coco_pole_ligth/labels/train\n",
        "train_im = os.path.join(os.path.join(result_dir,\"images\"),\"train\")\n",
        "labels_im = os.path.join(os.path.join(result_dir,\"labels\"),\"train\")\n",
        "os.makedirs(train_im, exist_ok=True)\n",
        "os.makedirs(labels_im, exist_ok=True)\n",
        "\n",
        "# копируем все в указанные выше директории\n",
        "for file_path, file_name in all_txt_files:\n",
        "    # разметка\n",
        "    destination_txt = os.path.join(labels_im, file_name)\n",
        "    os.popen(f'cp {file_path} {destination_txt}')\n",
        "    # изображения\n",
        "    destination_image = os.path.join(train_im, file_name.replace(\"txt\",\"jpg\"))\n",
        "    source_im = file_path.replace(\"obj_train_data\",\"images\").replace(\"txt\",\"jpg\")\n",
        "    print(source_im)\n",
        "    os.popen(f'cp {source_im} {destination_image}')\n"
      ]
    },
    {
      "cell_type": "code",
      "execution_count": 97,
      "metadata": {},
      "outputs": [],
      "source": [
        "def readTxt(filepath, row, cols):\n",
        "    res = dict()\n",
        "    f = open(filepath, \"r\")\n",
        "    Lines = f.readlines()\n",
        "    key = 0\n",
        "    for line in Lines:\n",
        "        split_line = line.strip().split(\" \")\n",
        "        print(split_line)\n",
        "        center_u = float(split_line[1]) * cols\n",
        "        center_v = float(split_line[2]) * row\n",
        "        wight_u = float(split_line[3]) * cols\n",
        "        hight_v = float(split_line[4]) * row\n",
        "        # формируем края \n",
        "        start_point = [center_u - wight_u/2, center_v - hight_v/2]\n",
        "        end_point = [center_u + wight_u/2, center_v + hight_v/2]\n",
        "        res[f\"box_{key}\"]  = {\"class\": int(split_line[0]), \"start_point\": start_point, \"end_point\" : end_point}\n",
        "        key += 1\n",
        "    f.close()\n",
        "    return res\n",
        "\n",
        "\n",
        "def getColor(class_):\n",
        "    if class_ == 1:\n",
        "        return (255, 0, 0)\n",
        "    else:\n",
        "        return (0, 255, 0)\n",
        "     \n",
        "\n",
        "    "
      ]
    },
    {
      "cell_type": "code",
      "execution_count": 100,
      "metadata": {},
      "outputs": [
        {
          "name": "stdout",
          "output_type": "stream",
          "text": [
            "['0', '0.545130', '0.250491', '0.041615', '0.046574']\n"
          ]
        },
        {
          "ename": "KeyError",
          "evalue": "'imclass'",
          "output_type": "error",
          "traceback": [
            "\u001b[0;31m---------------------------------------------------------------------------\u001b[0m",
            "\u001b[0;31mKeyError\u001b[0m                                  Traceback (most recent call last)",
            "Cell \u001b[0;32mIn[100], line 18\u001b[0m\n\u001b[1;32m     16\u001b[0m results \u001b[38;5;241m=\u001b[39m readTxt(label, r, c)\n\u001b[1;32m     17\u001b[0m \u001b[38;5;28;01mfor\u001b[39;00m key \u001b[38;5;129;01min\u001b[39;00m results\u001b[38;5;241m.\u001b[39mkeys():\n\u001b[0;32m---> 18\u001b[0m     imclass \u001b[38;5;241m=\u001b[39m \u001b[43mresults\u001b[49m\u001b[43m[\u001b[49m\u001b[43mkey\u001b[49m\u001b[43m]\u001b[49m\u001b[43m[\u001b[49m\u001b[38;5;124;43m\"\u001b[39;49m\u001b[38;5;124;43mimclass\u001b[39;49m\u001b[38;5;124;43m\"\u001b[39;49m\u001b[43m]\u001b[49m\n\u001b[1;32m     19\u001b[0m     \u001b[38;5;28mprint\u001b[39m(imclass)\n\u001b[1;32m     20\u001b[0m     start_point \u001b[38;5;241m=\u001b[39m results[key][\u001b[38;5;124m\"\u001b[39m\u001b[38;5;124mimclass\u001b[39m\u001b[38;5;124m\"\u001b[39m]\n",
            "\u001b[0;31mKeyError\u001b[0m: 'imclass'"
          ]
        }
      ],
      "source": [
        "# проверяем правильность разметки, визуализируя результат\n",
        "# Window name in which image is displayed \n",
        "window_name = 'Image'\n",
        "# Line thickness of 2 px \n",
        "thickness = 2\n",
        "\n",
        "for name in os.listdir(train_im):\n",
        "    if name.find(\"jpg\") > 0:\n",
        "        impath = os.path.join(train_im, name)\n",
        "        image = cv2.imread(impath)\n",
        "        r, c, _ = image.shape\n",
        "        # читаем разметку\n",
        "        label = impath.replace(\"images\", \"labels\").replace(\"jpg\",\"txt\")\n",
        "        results = readTxt(label, r, c)\n",
        "        for key in results.keys():\n",
        "            imclass = results[key][\"class\"]\n",
        "            print(imclass)\n",
        "            start_point = results[key][\"imclass\"]\n",
        "            end_point = results[key][\"imclass\"]\n",
        "            image = cv2.rectangle(image, start_point, end_point, color, thickness) \n",
        "        # Displaying the image  \n",
        "        cv2.imshow(window_name, image)\n",
        "        cv2.waitKey(1)\n",
        "    cv2.destroyAllWindows()"
      ]
    },
    {
      "cell_type": "code",
      "execution_count": null,
      "metadata": {},
      "outputs": [],
      "source": [
        "dsdsds"
      ]
    }
  ],
  "metadata": {
    "accelerator": "GPU",
    "colab": {
      "name": "YOLOv8 Tutorial",
      "provenance": [],
      "toc_visible": true
    },
    "kernelspec": {
      "display_name": "Python 3",
      "name": "python3"
    },
    "language_info": {
      "codemirror_mode": {
        "name": "ipython",
        "version": 3
      },
      "file_extension": ".py",
      "mimetype": "text/x-python",
      "name": "python",
      "nbconvert_exporter": "python",
      "pygments_lexer": "ipython3",
      "version": "3.12.2"
    }
  },
  "nbformat": 4,
  "nbformat_minor": 0
}
